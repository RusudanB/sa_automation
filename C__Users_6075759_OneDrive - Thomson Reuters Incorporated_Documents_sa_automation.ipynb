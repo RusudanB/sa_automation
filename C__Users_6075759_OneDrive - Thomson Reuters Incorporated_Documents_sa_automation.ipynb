{
 "cells": [
  {
   "cell_type": "code",
   "execution_count": 1,
   "id": "3887b265",
   "metadata": {},
   "outputs": [],
   "source": [
    "import pandas as pd \n",
    "df= pd.read_excel(r'C:\\Users\\6075759\\OneDrive - Thomson Reuters Incorporated\\Desktop\\E4U_SAI_20230715_TSS.xlsx', sheet_name='Data')\n"
   ]
  },
  {
   "cell_type": "code",
   "execution_count": 3,
   "id": "38355486",
   "metadata": {},
   "outputs": [],
   "source": [
    "sr = df.loc[df['Data1']==\"رمز النظام المنسق\"]\n",
    "list_of_sr = sr['SrNo'].tolist()\n",
    "\n",
    "new_df = df.iloc[list_of_sr[0]:list_of_sr[0]+50]\n",
    "length_ = int(len(list_of_sr))\n",
    "\n",
    "for i in range(length_-1):\n",
    "    new_df1= df.iloc[list_of_sr[i+1]:list_of_sr[i+1]+50]\n",
    "    new_df = pd.concat([new_df, new_df1])\n",
    "\n",
    "\n",
    "    \n",
    "new_df.to_excel(r'C:\\Users\\6075759\\OneDrive - Thomson Reuters Incorporated\\Desktop\\concat.xlsx', index=False)"
   ]
  },
  {
   "cell_type": "code",
   "execution_count": null,
   "id": "4d4eb800",
   "metadata": {},
   "outputs": [],
   "source": [
    "\n",
    "    "
   ]
  }
 ],
 "metadata": {
  "kernelspec": {
   "display_name": "Python 3 (ipykernel)",
   "language": "python",
   "name": "python3"
  },
  "language_info": {
   "codemirror_mode": {
    "name": "ipython",
    "version": 3
   },
   "file_extension": ".py",
   "mimetype": "text/x-python",
   "name": "python",
   "nbconvert_exporter": "python",
   "pygments_lexer": "ipython3",
   "version": "3.10.9"
  }
 },
 "nbformat": 4,
 "nbformat_minor": 5
}
